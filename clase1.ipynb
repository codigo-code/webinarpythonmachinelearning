{
 "cells": [
  {
   "cell_type": "code",
   "execution_count": 7,
   "metadata": {},
   "outputs": [
    {
     "name": "stdout",
     "output_type": "stream",
     "text": [
      "Nombre: juan, apellido: Aizpuru\n"
     ]
    }
   ],
   "source": [
    "# Mi primera aplicacion con python\n",
    "\n",
    "nombre = \"juan\"\n",
    "apellido = \"Aizpuru\"\n",
    "\n",
    "print(\"Nombre: \" + nombre +\", apellido: \"+ apellido)"
   ]
  },
  {
   "cell_type": "code",
   "execution_count": 8,
   "metadata": {},
   "outputs": [
    {
     "name": "stdout",
     "output_type": "stream",
     "text": [
      "4\n"
     ]
    }
   ],
   "source": [
    "print(2+2)"
   ]
  },
  {
   "cell_type": "code",
   "execution_count": 9,
   "metadata": {},
   "outputs": [
    {
     "name": "stdout",
     "output_type": "stream",
     "text": [
      "string\n",
      "1\n"
     ]
    }
   ],
   "source": [
    "variableX = \"string\"\n",
    "print(variableX)\n",
    "variableX = 1\n",
    "print(variableX)\n"
   ]
  },
  {
   "cell_type": "code",
   "execution_count": 10,
   "metadata": {},
   "outputs": [
    {
     "name": "stdout",
     "output_type": "stream",
     "text": [
      "hola mundo\n"
     ]
    }
   ],
   "source": [
    "def saludo():\n",
    "    print(\"hola mundo\")\n",
    "    \n",
    "saludo()"
   ]
  },
  {
   "cell_type": "code",
   "execution_count": 11,
   "metadata": {},
   "outputs": [
    {
     "name": "stdout",
     "output_type": "stream",
     "text": [
      "hola Juan\n"
     ]
    }
   ],
   "source": [
    "def saludo(nombre):\n",
    "    return \"hola \" + nombre\n",
    "\n",
    "print(saludo(\"Juan\"))\n"
   ]
  },
  {
   "cell_type": "code",
   "execution_count": 15,
   "metadata": {},
   "outputs": [
    {
     "name": "stdout",
     "output_type": "stream",
     "text": [
      "Peppa pig\n"
     ]
    }
   ],
   "source": [
    "def saludar():\n",
    "    nombre = \"Peppa pig\"\n",
    "    def saludoCerdita():\n",
    "        print(nombre)\n",
    "    \n",
    "    saludoCerdita()\n",
    "\n",
    "saludar()\n",
    "\n",
    "\n"
   ]
  },
  {
   "cell_type": "code",
   "execution_count": 16,
   "metadata": {},
   "outputs": [
    {
     "ename": "ZeroDivisionError",
     "evalue": "division by zero",
     "output_type": "error",
     "traceback": [
      "\u001b[1;31m---------------------------------------------------------------------------\u001b[0m",
      "\u001b[1;31mZeroDivisionError\u001b[0m                         Traceback (most recent call last)",
      "\u001b[1;32m<ipython-input-16-2cd19653b1b0>\u001b[0m in \u001b[0;36m<module>\u001b[1;34m\u001b[0m\n\u001b[0;32m      1\u001b[0m \u001b[1;33m\u001b[0m\u001b[0m\n\u001b[1;32m----> 2\u001b[1;33m \u001b[0mresultado\u001b[0m \u001b[1;33m=\u001b[0m \u001b[1;36m1\u001b[0m\u001b[1;33m/\u001b[0m\u001b[1;36m0\u001b[0m\u001b[1;33m\u001b[0m\u001b[1;33m\u001b[0m\u001b[0m\n\u001b[0m\u001b[0;32m      3\u001b[0m \u001b[1;33m\u001b[0m\u001b[0m\n\u001b[0;32m      4\u001b[0m \u001b[0mprint\u001b[0m\u001b[1;33m(\u001b[0m\u001b[0mresultado\u001b[0m\u001b[1;33m)\u001b[0m\u001b[1;33m\u001b[0m\u001b[1;33m\u001b[0m\u001b[0m\n",
      "\u001b[1;31mZeroDivisionError\u001b[0m: division by zero"
     ]
    }
   ],
   "source": [
    "\n",
    "resultado = 1/0\n",
    "\n",
    "print(resultado)"
   ]
  },
  {
   "cell_type": "code",
   "execution_count": 24,
   "metadata": {},
   "outputs": [
    {
     "name": "stdout",
     "output_type": "stream",
     "text": [
      "2\n"
     ]
    }
   ],
   "source": [
    "try:\n",
    "    # forzamos a que ocurra el error, pero no va a \"explotar el programa\"\n",
    "    resultado = 1+1\n",
    "    print(resultado)\n",
    "    \n",
    "except:\n",
    "    print(\"No podes dividir por cero amigo!\")\n",
    "    "
   ]
  },
  {
   "cell_type": "code",
   "execution_count": 21,
   "metadata": {},
   "outputs": [
    {
     "name": "stdout",
     "output_type": "stream",
     "text": [
      "Dante\n",
      "20.5\n"
     ]
    }
   ],
   "source": [
    "# colecciones \n",
    "\n",
    "listaNombres= [\"Juan\", \"Dante\",\"Braian\"]\n",
    "\n",
    "listaX = [\"libro\", 10, 20.5]\n",
    "        #    0      1   2  \n",
    "\n",
    "print(listaNombres[1])\n",
    "print( listaX[2])\n",
    "\n"
   ]
  },
  {
   "cell_type": "code",
   "execution_count": 23,
   "metadata": {},
   "outputs": [
    {
     "name": "stdout",
     "output_type": "stream",
     "text": [
      "Juan Aizpuru\n",
      "Aizpuru\n"
     ]
    }
   ],
   "source": [
    "class Persona:\n",
    "    \n",
    "    # constructor \n",
    "    def __init__(self,nombre,apellido):\n",
    "        self.nombre=nombre\n",
    "        self.apellido=apellido\n",
    "        \n",
    "     # procedimiento donde muestro el nombre completo   \n",
    "    def nombreCompleto(self):\n",
    "        print(self.nombre + \" \" + self.apellido)\n",
    "        \n",
    "\n",
    "p1 = Persona(\"Juan\",\"Aizpuru\")\n",
    "p1.nombreCompleto()\n",
    "print(p1.apellido)"
   ]
  },
  {
   "cell_type": "code",
   "execution_count": null,
   "metadata": {},
   "outputs": [],
   "source": []
  }
 ],
 "metadata": {
  "kernelspec": {
   "display_name": "Python 3",
   "language": "python",
   "name": "python3"
  },
  "language_info": {
   "codemirror_mode": {
    "name": "ipython",
    "version": 3
   },
   "file_extension": ".py",
   "mimetype": "text/x-python",
   "name": "python",
   "nbconvert_exporter": "python",
   "pygments_lexer": "ipython3",
   "version": "3.7.3"
  }
 },
 "nbformat": 4,
 "nbformat_minor": 2
}
